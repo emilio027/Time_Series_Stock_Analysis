{
 "cells": [
  {
   "cell_type": "markdown",
   "metadata": {},
   "source": [
    "# Time Series Model of Stocks During Hyperinflation"
   ]
  },
  {
   "cell_type": "markdown",
   "metadata": {},
   "source": [
    "![alt text](Data/brr.png)"
   ]
  },
  {
   "cell_type": "markdown",
   "metadata": {},
   "source": [
    "## Summary"
   ]
  },
  {
   "cell_type": "markdown",
   "metadata": {},
   "source": [
    "According to the latest figures issued by the US Department of Labor, inflation in the United States reached a three-decade high last month, with prices of consumer goods and services rising by 7% year over year."
   ]
  },
  {
   "cell_type": "markdown",
   "metadata": {},
   "source": [
    "###               Current US Inflation\n",
    "\n",
    "![Inflation since 2017](data/united-states-inflation-cpi.jpg)"
   ]
  },
  {
   "cell_type": "markdown",
   "metadata": {},
   "source": [
    "Energy production bottlenecks, supply chain disruptions, and a post-pandemic boost in demand have contributed to the rise in food, gas, and housing prices. Inflation worries are also weakening pay and job increases that had aided the economy's faster-than-expected recovery from the coronavirus crisis."
   ]
  },
  {
   "cell_type": "markdown",
   "metadata": {},
   "source": [
    "## Business Problem"
   ]
  },
  {
   "cell_type": "markdown",
   "metadata": {},
   "source": [
    "Despite the Federal Reserve's repeated denials of requests to raise interest rates, referring to inflation fears as \"transitory,\" the political repercussions of rising prices may eventually force the government to act. The stock market has responded gingerly to the news, with the benchmark S&P 500 index not dropping immediately. On the other hand, Morgan Stanley anticipates that if nothing changes, the index might fall by as much as 20% in the following months. Investors are rushing to protect their growth-oriented portfolios against danger in the current environment.\n",
    "\n",
    "\n"
   ]
  },
  {
   "cell_type": "markdown",
   "metadata": {},
   "source": [
    "Traditional wisdom holds that dividend-paying, stable firms in the value category and gold are the best inflation hedges. However, the economy has altered so dramatically in recent years that the meaning of \"value stock\" has also shifted. Before purchasing for a crisis, investors should think about pricing power and worldwide market reach. Viewed in this context, some of the top inflation-proof stocks to buy now include Apple Inc. (NASDAQ: AAPL), Adobe Inc. (NASDAQ: ADBE), and MercadoLibre, Inc. (NASDAQ: MELI), among others modeled within this project."
   ]
  },
  {
   "cell_type": "markdown",
   "metadata": {},
   "source": [
    "The time series model intends to predict the risk and potential return on investment for a small-sized portfolio that wishes to diversify itself during times of hyperinflation."
   ]
  },
  {
   "cell_type": "markdown",
   "metadata": {},
   "source": [
    "## Data"
   ]
  },
  {
   "cell_type": "markdown",
   "metadata": {},
   "source": [
    "The stocks analyzed and modeled using facebook's Prophet algorithm are the following:\n",
    "\n",
    "Apple Inc. - AAPL\n",
    "\n",
    "Stanley Black & Decker, Inc. - SWK\n",
    "\n",
    "Newmont Corp. - NEM\n",
    "\n",
    "EPAM Systems Inc. - EPAM\n",
    "\n",
    "Aptiv PLC - APTV\n",
    "\n",
    "Adobe Inc. ADBE\n",
    "\n",
    "Federal Realty Investment Trust - FRT\n",
    "\n",
    "Altria Group Inc. - MO\n",
    "\n",
    "Trade Desk Inc. - TTD\n",
    "\n",
    "Mercadolibre Inc. - MELI"
   ]
  },
  {
   "cell_type": "markdown",
   "metadata": {},
   "source": [
    "## Results"
   ]
  },
  {
   "cell_type": "markdown",
   "metadata": {},
   "source": [
    "After training a Prophet model, the top-performing stocks with the most significant ROI and lowest RMSE were the following:\n",
    "\n",
    "AAPL - ROI: 47.4% | RMSE: 33.6\n",
    "\n",
    "ADBE - ROI: 55% | RMSE: 70.9\n",
    "\n",
    "APTV - ROI: 43.2% | RMSE: 30.4\n",
    "\n",
    "EPAM - ROI: 46.8% | RMSE: 81.31\n",
    "\n",
    "NEM - ROI: 65.6% | RMSE: 15.5\n",
    "\n",
    "SWK - ROI: 57.7% | RMSE: 36.5"
   ]
  },
  {
   "cell_type": "markdown",
   "metadata": {},
   "source": [
    "![alt text](data/stocksplot.png)"
   ]
  }
 ],
 "metadata": {
  "kernelspec": {
   "display_name": "Python 3",
   "language": "python",
   "name": "python3"
  },
  "language_info": {
   "codemirror_mode": {
    "name": "ipython",
    "version": 3
   },
   "file_extension": ".py",
   "mimetype": "text/x-python",
   "name": "python",
   "nbconvert_exporter": "python",
   "pygments_lexer": "ipython3",
   "version": "3.8.5"
  }
 },
 "nbformat": 4,
 "nbformat_minor": 4
}
